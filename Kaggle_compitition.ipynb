{
  "nbformat": 4,
  "nbformat_minor": 0,
  "metadata": {
    "colab": {
      "name": "Kaggle compitition.ipynb",
      "provenance": []
    },
    "kernelspec": {
      "name": "python3",
      "display_name": "Python 3"
    },
    "accelerator": "GPU"
  },
  "cells": [
    {
      "cell_type": "code",
      "metadata": {
        "colab": {
          "resources": {
            "http://localhost:8080/nbextensions/google.colab/files.js": {
              "data": "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",
              "ok": true,
              "headers": [
                [
                  "content-type",
                  "application/javascript"
                ]
              ],
              "status": 200,
              "status_text": ""
            }
          },
          "base_uri": "https://localhost:8080/",
          "height": 73
        },
        "id": "AHr9gt2LIjRf",
        "outputId": "ad140b49-2019-4d33-dd12-cb1de19fcdf2"
      },
      "source": [
        "from google.colab import files\r\n",
        "files.upload()\r\n",
        "\r\n",
        "!unzip -q tabular-playground-series-mar-2021.zip"
      ],
      "execution_count": 1,
      "outputs": [
        {
          "output_type": "display_data",
          "data": {
            "text/html": [
              "\n",
              "     <input type=\"file\" id=\"files-46b04ab6-36a6-46cf-848d-be5503c26701\" name=\"files[]\" multiple disabled\n",
              "        style=\"border:none\" />\n",
              "     <output id=\"result-46b04ab6-36a6-46cf-848d-be5503c26701\">\n",
              "      Upload widget is only available when the cell has been executed in the\n",
              "      current browser session. Please rerun this cell to enable.\n",
              "      </output>\n",
              "      <script src=\"/nbextensions/google.colab/files.js\"></script> "
            ],
            "text/plain": [
              "<IPython.core.display.HTML object>"
            ]
          },
          "metadata": {
            "tags": []
          }
        },
        {
          "output_type": "stream",
          "text": [
            "Saving tabular-playground-series-mar-2021.zip to tabular-playground-series-mar-2021.zip\n"
          ],
          "name": "stdout"
        }
      ]
    },
    {
      "cell_type": "code",
      "metadata": {
        "colab": {
          "base_uri": "https://localhost:8080/"
        },
        "id": "aWaKzQSFTX_M",
        "outputId": "ead805c6-95f1-45d1-b346-5be78f2fc672"
      },
      "source": [
        "!pip install -q catboost\r\n",
        "!pip install -q lightgbm"
      ],
      "execution_count": 2,
      "outputs": [
        {
          "output_type": "stream",
          "text": [
            "\u001b[K     |████████████████████████████████| 65.7MB 50kB/s \n",
            "\u001b[?25h"
          ],
          "name": "stdout"
        }
      ]
    },
    {
      "cell_type": "code",
      "metadata": {
        "id": "NM0hteW9IzLR"
      },
      "source": [
        "import pandas as pd\r\n",
        "import numpy as np \r\n",
        "import seaborn as sns \r\n",
        "import matplotlib.pyplot as plt\r\n",
        "%matplotlib inline\r\n",
        "\r\n",
        "from sklearn.model_selection import train_test_split\r\n",
        "from sklearn.tree import DecisionTreeClassifier\r\n",
        "from sklearn.ensemble import RandomForestClassifier\r\n",
        "\r\n",
        "from sklearn.preprocessing import *\r\n",
        "\r\n",
        "from xgboost import XGBClassifier\r\n",
        "from catboost import CatBoostClassifier\r\n",
        "from lightgbm import LGBMClassifier\r\n",
        "\r\n",
        "from sklearn.linear_model import LogisticRegression\r\n",
        "\r\n",
        "\r\n",
        "\r\n"
      ],
      "execution_count": 3,
      "outputs": []
    },
    {
      "cell_type": "code",
      "metadata": {
        "id": "OeNCIvuWUPQi"
      },
      "source": [
        "train = pd.read_csv(\"train.csv\")\r\n",
        "test = pd.read_csv(\"test.csv\")\r\n",
        "sub = pd.read_csv(\"sample_submission.csv\")"
      ],
      "execution_count": 4,
      "outputs": []
    },
    {
      "cell_type": "code",
      "metadata": {
        "colab": {
          "base_uri": "https://localhost:8080/",
          "height": 218
        },
        "id": "lszu4NV1UlXw",
        "outputId": "c8d749f1-558f-4dc2-c9b3-f2f68985c0f1"
      },
      "source": [
        "train.head()"
      ],
      "execution_count": 5,
      "outputs": [
        {
          "output_type": "execute_result",
          "data": {
            "text/html": [
              "<div>\n",
              "<style scoped>\n",
              "    .dataframe tbody tr th:only-of-type {\n",
              "        vertical-align: middle;\n",
              "    }\n",
              "\n",
              "    .dataframe tbody tr th {\n",
              "        vertical-align: top;\n",
              "    }\n",
              "\n",
              "    .dataframe thead th {\n",
              "        text-align: right;\n",
              "    }\n",
              "</style>\n",
              "<table border=\"1\" class=\"dataframe\">\n",
              "  <thead>\n",
              "    <tr style=\"text-align: right;\">\n",
              "      <th></th>\n",
              "      <th>id</th>\n",
              "      <th>cat0</th>\n",
              "      <th>cat1</th>\n",
              "      <th>cat2</th>\n",
              "      <th>cat3</th>\n",
              "      <th>cat4</th>\n",
              "      <th>cat5</th>\n",
              "      <th>cat6</th>\n",
              "      <th>cat7</th>\n",
              "      <th>cat8</th>\n",
              "      <th>cat9</th>\n",
              "      <th>cat10</th>\n",
              "      <th>cat11</th>\n",
              "      <th>cat12</th>\n",
              "      <th>cat13</th>\n",
              "      <th>cat14</th>\n",
              "      <th>cat15</th>\n",
              "      <th>cat16</th>\n",
              "      <th>cat17</th>\n",
              "      <th>cat18</th>\n",
              "      <th>cont0</th>\n",
              "      <th>cont1</th>\n",
              "      <th>cont2</th>\n",
              "      <th>cont3</th>\n",
              "      <th>cont4</th>\n",
              "      <th>cont5</th>\n",
              "      <th>cont6</th>\n",
              "      <th>cont7</th>\n",
              "      <th>cont8</th>\n",
              "      <th>cont9</th>\n",
              "      <th>cont10</th>\n",
              "      <th>target</th>\n",
              "    </tr>\n",
              "  </thead>\n",
              "  <tbody>\n",
              "    <tr>\n",
              "      <th>0</th>\n",
              "      <td>0</td>\n",
              "      <td>A</td>\n",
              "      <td>I</td>\n",
              "      <td>A</td>\n",
              "      <td>B</td>\n",
              "      <td>B</td>\n",
              "      <td>BI</td>\n",
              "      <td>A</td>\n",
              "      <td>S</td>\n",
              "      <td>Q</td>\n",
              "      <td>A</td>\n",
              "      <td>LO</td>\n",
              "      <td>A</td>\n",
              "      <td>A</td>\n",
              "      <td>A</td>\n",
              "      <td>A</td>\n",
              "      <td>B</td>\n",
              "      <td>D</td>\n",
              "      <td>D</td>\n",
              "      <td>B</td>\n",
              "      <td>0.629858</td>\n",
              "      <td>0.855349</td>\n",
              "      <td>0.759439</td>\n",
              "      <td>0.795549</td>\n",
              "      <td>0.681917</td>\n",
              "      <td>0.621672</td>\n",
              "      <td>0.592184</td>\n",
              "      <td>0.791921</td>\n",
              "      <td>0.815254</td>\n",
              "      <td>0.965006</td>\n",
              "      <td>0.665915</td>\n",
              "      <td>0</td>\n",
              "    </tr>\n",
              "    <tr>\n",
              "      <th>1</th>\n",
              "      <td>1</td>\n",
              "      <td>A</td>\n",
              "      <td>I</td>\n",
              "      <td>A</td>\n",
              "      <td>A</td>\n",
              "      <td>E</td>\n",
              "      <td>BI</td>\n",
              "      <td>K</td>\n",
              "      <td>W</td>\n",
              "      <td>AD</td>\n",
              "      <td>F</td>\n",
              "      <td>HJ</td>\n",
              "      <td>A</td>\n",
              "      <td>B</td>\n",
              "      <td>A</td>\n",
              "      <td>B</td>\n",
              "      <td>D</td>\n",
              "      <td>B</td>\n",
              "      <td>D</td>\n",
              "      <td>B</td>\n",
              "      <td>0.370727</td>\n",
              "      <td>0.328929</td>\n",
              "      <td>0.386385</td>\n",
              "      <td>0.541366</td>\n",
              "      <td>0.388982</td>\n",
              "      <td>0.357778</td>\n",
              "      <td>0.600044</td>\n",
              "      <td>0.408701</td>\n",
              "      <td>0.399353</td>\n",
              "      <td>0.927406</td>\n",
              "      <td>0.493729</td>\n",
              "      <td>0</td>\n",
              "    </tr>\n",
              "    <tr>\n",
              "      <th>2</th>\n",
              "      <td>2</td>\n",
              "      <td>A</td>\n",
              "      <td>K</td>\n",
              "      <td>A</td>\n",
              "      <td>A</td>\n",
              "      <td>E</td>\n",
              "      <td>BI</td>\n",
              "      <td>A</td>\n",
              "      <td>E</td>\n",
              "      <td>BM</td>\n",
              "      <td>L</td>\n",
              "      <td>DJ</td>\n",
              "      <td>A</td>\n",
              "      <td>B</td>\n",
              "      <td>A</td>\n",
              "      <td>A</td>\n",
              "      <td>B</td>\n",
              "      <td>D</td>\n",
              "      <td>D</td>\n",
              "      <td>B</td>\n",
              "      <td>0.502272</td>\n",
              "      <td>0.322749</td>\n",
              "      <td>0.343255</td>\n",
              "      <td>0.616352</td>\n",
              "      <td>0.793687</td>\n",
              "      <td>0.552877</td>\n",
              "      <td>0.352113</td>\n",
              "      <td>0.388835</td>\n",
              "      <td>0.412303</td>\n",
              "      <td>0.292696</td>\n",
              "      <td>0.549452</td>\n",
              "      <td>0</td>\n",
              "    </tr>\n",
              "    <tr>\n",
              "      <th>3</th>\n",
              "      <td>3</td>\n",
              "      <td>A</td>\n",
              "      <td>K</td>\n",
              "      <td>A</td>\n",
              "      <td>C</td>\n",
              "      <td>E</td>\n",
              "      <td>BI</td>\n",
              "      <td>A</td>\n",
              "      <td>Y</td>\n",
              "      <td>AD</td>\n",
              "      <td>F</td>\n",
              "      <td>KV</td>\n",
              "      <td>A</td>\n",
              "      <td>A</td>\n",
              "      <td>A</td>\n",
              "      <td>A</td>\n",
              "      <td>B</td>\n",
              "      <td>D</td>\n",
              "      <td>D</td>\n",
              "      <td>B</td>\n",
              "      <td>0.934242</td>\n",
              "      <td>0.707663</td>\n",
              "      <td>0.831147</td>\n",
              "      <td>0.807807</td>\n",
              "      <td>0.800032</td>\n",
              "      <td>0.619147</td>\n",
              "      <td>0.221789</td>\n",
              "      <td>0.897617</td>\n",
              "      <td>0.633669</td>\n",
              "      <td>0.760318</td>\n",
              "      <td>0.934242</td>\n",
              "      <td>0</td>\n",
              "    </tr>\n",
              "    <tr>\n",
              "      <th>4</th>\n",
              "      <td>4</td>\n",
              "      <td>A</td>\n",
              "      <td>I</td>\n",
              "      <td>G</td>\n",
              "      <td>B</td>\n",
              "      <td>E</td>\n",
              "      <td>BI</td>\n",
              "      <td>C</td>\n",
              "      <td>G</td>\n",
              "      <td>Q</td>\n",
              "      <td>A</td>\n",
              "      <td>DP</td>\n",
              "      <td>A</td>\n",
              "      <td>A</td>\n",
              "      <td>A</td>\n",
              "      <td>B</td>\n",
              "      <td>B</td>\n",
              "      <td>B</td>\n",
              "      <td>D</td>\n",
              "      <td>B</td>\n",
              "      <td>0.254427</td>\n",
              "      <td>0.274514</td>\n",
              "      <td>0.338818</td>\n",
              "      <td>0.277308</td>\n",
              "      <td>0.610578</td>\n",
              "      <td>0.128291</td>\n",
              "      <td>0.578764</td>\n",
              "      <td>0.279167</td>\n",
              "      <td>0.351103</td>\n",
              "      <td>0.357084</td>\n",
              "      <td>0.328960</td>\n",
              "      <td>1</td>\n",
              "    </tr>\n",
              "  </tbody>\n",
              "</table>\n",
              "</div>"
            ],
            "text/plain": [
              "   id cat0 cat1 cat2 cat3  ...     cont7     cont8     cont9    cont10 target\n",
              "0   0    A    I    A    B  ...  0.791921  0.815254  0.965006  0.665915      0\n",
              "1   1    A    I    A    A  ...  0.408701  0.399353  0.927406  0.493729      0\n",
              "2   2    A    K    A    A  ...  0.388835  0.412303  0.292696  0.549452      0\n",
              "3   3    A    K    A    C  ...  0.897617  0.633669  0.760318  0.934242      0\n",
              "4   4    A    I    G    B  ...  0.279167  0.351103  0.357084  0.328960      1\n",
              "\n",
              "[5 rows x 32 columns]"
            ]
          },
          "metadata": {
            "tags": []
          },
          "execution_count": 5
        }
      ]
    },
    {
      "cell_type": "code",
      "metadata": {
        "colab": {
          "base_uri": "https://localhost:8080/"
        },
        "id": "bNx16wsIUn5l",
        "outputId": "14f5d131-4579-4e25-f4c2-eaf6d512c248"
      },
      "source": [
        "train.isnull().sum()"
      ],
      "execution_count": 6,
      "outputs": [
        {
          "output_type": "execute_result",
          "data": {
            "text/plain": [
              "id        0\n",
              "cat0      0\n",
              "cat1      0\n",
              "cat2      0\n",
              "cat3      0\n",
              "cat4      0\n",
              "cat5      0\n",
              "cat6      0\n",
              "cat7      0\n",
              "cat8      0\n",
              "cat9      0\n",
              "cat10     0\n",
              "cat11     0\n",
              "cat12     0\n",
              "cat13     0\n",
              "cat14     0\n",
              "cat15     0\n",
              "cat16     0\n",
              "cat17     0\n",
              "cat18     0\n",
              "cont0     0\n",
              "cont1     0\n",
              "cont2     0\n",
              "cont3     0\n",
              "cont4     0\n",
              "cont5     0\n",
              "cont6     0\n",
              "cont7     0\n",
              "cont8     0\n",
              "cont9     0\n",
              "cont10    0\n",
              "target    0\n",
              "dtype: int64"
            ]
          },
          "metadata": {
            "tags": []
          },
          "execution_count": 6
        }
      ]
    },
    {
      "cell_type": "code",
      "metadata": {
        "colab": {
          "base_uri": "https://localhost:8080/",
          "height": 308
        },
        "id": "PtDRRzf3VZhJ",
        "outputId": "fe256c41-7f7e-4915-f095-e63be1e4b066"
      },
      "source": [
        "train.describe()"
      ],
      "execution_count": 7,
      "outputs": [
        {
          "output_type": "execute_result",
          "data": {
            "text/html": [
              "<div>\n",
              "<style scoped>\n",
              "    .dataframe tbody tr th:only-of-type {\n",
              "        vertical-align: middle;\n",
              "    }\n",
              "\n",
              "    .dataframe tbody tr th {\n",
              "        vertical-align: top;\n",
              "    }\n",
              "\n",
              "    .dataframe thead th {\n",
              "        text-align: right;\n",
              "    }\n",
              "</style>\n",
              "<table border=\"1\" class=\"dataframe\">\n",
              "  <thead>\n",
              "    <tr style=\"text-align: right;\">\n",
              "      <th></th>\n",
              "      <th>id</th>\n",
              "      <th>cont0</th>\n",
              "      <th>cont1</th>\n",
              "      <th>cont2</th>\n",
              "      <th>cont3</th>\n",
              "      <th>cont4</th>\n",
              "      <th>cont5</th>\n",
              "      <th>cont6</th>\n",
              "      <th>cont7</th>\n",
              "      <th>cont8</th>\n",
              "      <th>cont9</th>\n",
              "      <th>cont10</th>\n",
              "      <th>target</th>\n",
              "    </tr>\n",
              "  </thead>\n",
              "  <tbody>\n",
              "    <tr>\n",
              "      <th>count</th>\n",
              "      <td>300000.000000</td>\n",
              "      <td>300000.000000</td>\n",
              "      <td>300000.000000</td>\n",
              "      <td>300000.000000</td>\n",
              "      <td>300000.000000</td>\n",
              "      <td>300000.000000</td>\n",
              "      <td>300000.000000</td>\n",
              "      <td>300000.000000</td>\n",
              "      <td>300000.000000</td>\n",
              "      <td>300000.000000</td>\n",
              "      <td>300000.000000</td>\n",
              "      <td>300000.000000</td>\n",
              "      <td>300000.000000</td>\n",
              "    </tr>\n",
              "    <tr>\n",
              "      <th>mean</th>\n",
              "      <td>250183.425697</td>\n",
              "      <td>0.504749</td>\n",
              "      <td>0.494073</td>\n",
              "      <td>0.516632</td>\n",
              "      <td>0.474235</td>\n",
              "      <td>0.504848</td>\n",
              "      <td>0.502257</td>\n",
              "      <td>0.488229</td>\n",
              "      <td>0.501739</td>\n",
              "      <td>0.488074</td>\n",
              "      <td>0.469496</td>\n",
              "      <td>0.508230</td>\n",
              "      <td>0.264870</td>\n",
              "    </tr>\n",
              "    <tr>\n",
              "      <th>std</th>\n",
              "      <td>144320.334812</td>\n",
              "      <td>0.206788</td>\n",
              "      <td>0.213037</td>\n",
              "      <td>0.214851</td>\n",
              "      <td>0.216636</td>\n",
              "      <td>0.227474</td>\n",
              "      <td>0.241243</td>\n",
              "      <td>0.211335</td>\n",
              "      <td>0.203496</td>\n",
              "      <td>0.179048</td>\n",
              "      <td>0.194516</td>\n",
              "      <td>0.203393</td>\n",
              "      <td>0.441265</td>\n",
              "    </tr>\n",
              "    <tr>\n",
              "      <th>min</th>\n",
              "      <td>0.000000</td>\n",
              "      <td>-0.049562</td>\n",
              "      <td>0.084480</td>\n",
              "      <td>0.094493</td>\n",
              "      <td>-0.045316</td>\n",
              "      <td>0.168071</td>\n",
              "      <td>-0.036379</td>\n",
              "      <td>0.005199</td>\n",
              "      <td>0.090901</td>\n",
              "      <td>0.024139</td>\n",
              "      <td>0.214866</td>\n",
              "      <td>0.097789</td>\n",
              "      <td>0.000000</td>\n",
              "    </tr>\n",
              "    <tr>\n",
              "      <th>25%</th>\n",
              "      <td>125399.750000</td>\n",
              "      <td>0.344985</td>\n",
              "      <td>0.317363</td>\n",
              "      <td>0.326047</td>\n",
              "      <td>0.292249</td>\n",
              "      <td>0.279303</td>\n",
              "      <td>0.276442</td>\n",
              "      <td>0.323914</td>\n",
              "      <td>0.353054</td>\n",
              "      <td>0.358915</td>\n",
              "      <td>0.309934</td>\n",
              "      <td>0.368312</td>\n",
              "      <td>0.000000</td>\n",
              "    </tr>\n",
              "    <tr>\n",
              "      <th>50%</th>\n",
              "      <td>250192.500000</td>\n",
              "      <td>0.479650</td>\n",
              "      <td>0.463170</td>\n",
              "      <td>0.471247</td>\n",
              "      <td>0.387564</td>\n",
              "      <td>0.479858</td>\n",
              "      <td>0.554768</td>\n",
              "      <td>0.518089</td>\n",
              "      <td>0.435404</td>\n",
              "      <td>0.410908</td>\n",
              "      <td>0.407477</td>\n",
              "      <td>0.446576</td>\n",
              "      <td>0.000000</td>\n",
              "    </tr>\n",
              "    <tr>\n",
              "      <th>75%</th>\n",
              "      <td>375246.250000</td>\n",
              "      <td>0.637657</td>\n",
              "      <td>0.693992</td>\n",
              "      <td>0.704625</td>\n",
              "      <td>0.644950</td>\n",
              "      <td>0.725779</td>\n",
              "      <td>0.735225</td>\n",
              "      <td>0.608537</td>\n",
              "      <td>0.642023</td>\n",
              "      <td>0.612725</td>\n",
              "      <td>0.586793</td>\n",
              "      <td>0.581957</td>\n",
              "      <td>1.000000</td>\n",
              "    </tr>\n",
              "    <tr>\n",
              "      <th>max</th>\n",
              "      <td>499999.000000</td>\n",
              "      <td>1.004559</td>\n",
              "      <td>1.009958</td>\n",
              "      <td>1.016600</td>\n",
              "      <td>0.952187</td>\n",
              "      <td>0.858578</td>\n",
              "      <td>0.853022</td>\n",
              "      <td>0.966553</td>\n",
              "      <td>1.035818</td>\n",
              "      <td>1.055885</td>\n",
              "      <td>1.005652</td>\n",
              "      <td>1.011331</td>\n",
              "      <td>1.000000</td>\n",
              "    </tr>\n",
              "  </tbody>\n",
              "</table>\n",
              "</div>"
            ],
            "text/plain": [
              "                  id          cont0  ...         cont10         target\n",
              "count  300000.000000  300000.000000  ...  300000.000000  300000.000000\n",
              "mean   250183.425697       0.504749  ...       0.508230       0.264870\n",
              "std    144320.334812       0.206788  ...       0.203393       0.441265\n",
              "min         0.000000      -0.049562  ...       0.097789       0.000000\n",
              "25%    125399.750000       0.344985  ...       0.368312       0.000000\n",
              "50%    250192.500000       0.479650  ...       0.446576       0.000000\n",
              "75%    375246.250000       0.637657  ...       0.581957       1.000000\n",
              "max    499999.000000       1.004559  ...       1.011331       1.000000\n",
              "\n",
              "[8 rows x 13 columns]"
            ]
          },
          "metadata": {
            "tags": []
          },
          "execution_count": 7
        }
      ]
    },
    {
      "cell_type": "code",
      "metadata": {
        "colab": {
          "base_uri": "https://localhost:8080/",
          "height": 439
        },
        "id": "tksL8EFzVdWP",
        "outputId": "6a13aa44-16e2-467c-f7bd-ca7a7a0bdf00"
      },
      "source": [
        "train.corr()"
      ],
      "execution_count": 8,
      "outputs": [
        {
          "output_type": "execute_result",
          "data": {
            "text/html": [
              "<div>\n",
              "<style scoped>\n",
              "    .dataframe tbody tr th:only-of-type {\n",
              "        vertical-align: middle;\n",
              "    }\n",
              "\n",
              "    .dataframe tbody tr th {\n",
              "        vertical-align: top;\n",
              "    }\n",
              "\n",
              "    .dataframe thead th {\n",
              "        text-align: right;\n",
              "    }\n",
              "</style>\n",
              "<table border=\"1\" class=\"dataframe\">\n",
              "  <thead>\n",
              "    <tr style=\"text-align: right;\">\n",
              "      <th></th>\n",
              "      <th>id</th>\n",
              "      <th>cont0</th>\n",
              "      <th>cont1</th>\n",
              "      <th>cont2</th>\n",
              "      <th>cont3</th>\n",
              "      <th>cont4</th>\n",
              "      <th>cont5</th>\n",
              "      <th>cont6</th>\n",
              "      <th>cont7</th>\n",
              "      <th>cont8</th>\n",
              "      <th>cont9</th>\n",
              "      <th>cont10</th>\n",
              "      <th>target</th>\n",
              "    </tr>\n",
              "  </thead>\n",
              "  <tbody>\n",
              "    <tr>\n",
              "      <th>id</th>\n",
              "      <td>1.000000</td>\n",
              "      <td>-0.000445</td>\n",
              "      <td>-0.001747</td>\n",
              "      <td>-0.002561</td>\n",
              "      <td>-0.000721</td>\n",
              "      <td>0.001114</td>\n",
              "      <td>-0.001402</td>\n",
              "      <td>0.001421</td>\n",
              "      <td>-0.000927</td>\n",
              "      <td>-0.002574</td>\n",
              "      <td>-0.001938</td>\n",
              "      <td>-0.000227</td>\n",
              "      <td>-0.001407</td>\n",
              "    </tr>\n",
              "    <tr>\n",
              "      <th>cont0</th>\n",
              "      <td>-0.000445</td>\n",
              "      <td>1.000000</td>\n",
              "      <td>0.474046</td>\n",
              "      <td>0.494622</td>\n",
              "      <td>0.549246</td>\n",
              "      <td>0.155805</td>\n",
              "      <td>-0.169393</td>\n",
              "      <td>-0.436555</td>\n",
              "      <td>0.740377</td>\n",
              "      <td>0.367794</td>\n",
              "      <td>0.414758</td>\n",
              "      <td>0.807896</td>\n",
              "      <td>-0.015172</td>\n",
              "    </tr>\n",
              "    <tr>\n",
              "      <th>cont1</th>\n",
              "      <td>-0.001747</td>\n",
              "      <td>0.474046</td>\n",
              "      <td>1.000000</td>\n",
              "      <td>0.861623</td>\n",
              "      <td>0.256854</td>\n",
              "      <td>0.133988</td>\n",
              "      <td>0.185838</td>\n",
              "      <td>0.116296</td>\n",
              "      <td>0.581201</td>\n",
              "      <td>0.672587</td>\n",
              "      <td>0.393313</td>\n",
              "      <td>0.471084</td>\n",
              "      <td>0.164655</td>\n",
              "    </tr>\n",
              "    <tr>\n",
              "      <th>cont2</th>\n",
              "      <td>-0.002561</td>\n",
              "      <td>0.494622</td>\n",
              "      <td>0.861623</td>\n",
              "      <td>1.000000</td>\n",
              "      <td>0.286822</td>\n",
              "      <td>0.158749</td>\n",
              "      <td>0.158240</td>\n",
              "      <td>0.066997</td>\n",
              "      <td>0.606447</td>\n",
              "      <td>0.662832</td>\n",
              "      <td>0.399063</td>\n",
              "      <td>0.506684</td>\n",
              "      <td>0.140459</td>\n",
              "    </tr>\n",
              "    <tr>\n",
              "      <th>cont3</th>\n",
              "      <td>-0.000721</td>\n",
              "      <td>0.549246</td>\n",
              "      <td>0.256854</td>\n",
              "      <td>0.286822</td>\n",
              "      <td>1.000000</td>\n",
              "      <td>0.222817</td>\n",
              "      <td>-0.068856</td>\n",
              "      <td>-0.429911</td>\n",
              "      <td>0.641923</td>\n",
              "      <td>0.188794</td>\n",
              "      <td>0.383062</td>\n",
              "      <td>0.611307</td>\n",
              "      <td>-0.148316</td>\n",
              "    </tr>\n",
              "    <tr>\n",
              "      <th>cont4</th>\n",
              "      <td>0.001114</td>\n",
              "      <td>0.155805</td>\n",
              "      <td>0.133988</td>\n",
              "      <td>0.158749</td>\n",
              "      <td>0.222817</td>\n",
              "      <td>1.000000</td>\n",
              "      <td>0.037509</td>\n",
              "      <td>-0.081020</td>\n",
              "      <td>0.231526</td>\n",
              "      <td>0.064836</td>\n",
              "      <td>0.161150</td>\n",
              "      <td>0.208428</td>\n",
              "      <td>-0.075585</td>\n",
              "    </tr>\n",
              "    <tr>\n",
              "      <th>cont5</th>\n",
              "      <td>-0.001402</td>\n",
              "      <td>-0.169393</td>\n",
              "      <td>0.185838</td>\n",
              "      <td>0.158240</td>\n",
              "      <td>-0.068856</td>\n",
              "      <td>0.037509</td>\n",
              "      <td>1.000000</td>\n",
              "      <td>0.439221</td>\n",
              "      <td>-0.094008</td>\n",
              "      <td>0.141199</td>\n",
              "      <td>0.120901</td>\n",
              "      <td>-0.160551</td>\n",
              "      <td>0.215184</td>\n",
              "    </tr>\n",
              "    <tr>\n",
              "      <th>cont6</th>\n",
              "      <td>0.001421</td>\n",
              "      <td>-0.436555</td>\n",
              "      <td>0.116296</td>\n",
              "      <td>0.066997</td>\n",
              "      <td>-0.429911</td>\n",
              "      <td>-0.081020</td>\n",
              "      <td>0.439221</td>\n",
              "      <td>1.000000</td>\n",
              "      <td>-0.361585</td>\n",
              "      <td>0.123390</td>\n",
              "      <td>-0.125960</td>\n",
              "      <td>-0.443371</td>\n",
              "      <td>0.189832</td>\n",
              "    </tr>\n",
              "    <tr>\n",
              "      <th>cont7</th>\n",
              "      <td>-0.000927</td>\n",
              "      <td>0.740377</td>\n",
              "      <td>0.581201</td>\n",
              "      <td>0.606447</td>\n",
              "      <td>0.641923</td>\n",
              "      <td>0.231526</td>\n",
              "      <td>-0.094008</td>\n",
              "      <td>-0.361585</td>\n",
              "      <td>1.000000</td>\n",
              "      <td>0.479203</td>\n",
              "      <td>0.443322</td>\n",
              "      <td>0.775453</td>\n",
              "      <td>-0.040646</td>\n",
              "    </tr>\n",
              "    <tr>\n",
              "      <th>cont8</th>\n",
              "      <td>-0.002574</td>\n",
              "      <td>0.367794</td>\n",
              "      <td>0.672587</td>\n",
              "      <td>0.662832</td>\n",
              "      <td>0.188794</td>\n",
              "      <td>0.064836</td>\n",
              "      <td>0.141199</td>\n",
              "      <td>0.123390</td>\n",
              "      <td>0.479203</td>\n",
              "      <td>1.000000</td>\n",
              "      <td>0.293181</td>\n",
              "      <td>0.382051</td>\n",
              "      <td>0.183726</td>\n",
              "    </tr>\n",
              "    <tr>\n",
              "      <th>cont9</th>\n",
              "      <td>-0.001938</td>\n",
              "      <td>0.414758</td>\n",
              "      <td>0.393313</td>\n",
              "      <td>0.399063</td>\n",
              "      <td>0.383062</td>\n",
              "      <td>0.161150</td>\n",
              "      <td>0.120901</td>\n",
              "      <td>-0.125960</td>\n",
              "      <td>0.443322</td>\n",
              "      <td>0.293181</td>\n",
              "      <td>1.000000</td>\n",
              "      <td>0.452508</td>\n",
              "      <td>0.059242</td>\n",
              "    </tr>\n",
              "    <tr>\n",
              "      <th>cont10</th>\n",
              "      <td>-0.000227</td>\n",
              "      <td>0.807896</td>\n",
              "      <td>0.471084</td>\n",
              "      <td>0.506684</td>\n",
              "      <td>0.611307</td>\n",
              "      <td>0.208428</td>\n",
              "      <td>-0.160551</td>\n",
              "      <td>-0.443371</td>\n",
              "      <td>0.775453</td>\n",
              "      <td>0.382051</td>\n",
              "      <td>0.452508</td>\n",
              "      <td>1.000000</td>\n",
              "      <td>-0.047077</td>\n",
              "    </tr>\n",
              "    <tr>\n",
              "      <th>target</th>\n",
              "      <td>-0.001407</td>\n",
              "      <td>-0.015172</td>\n",
              "      <td>0.164655</td>\n",
              "      <td>0.140459</td>\n",
              "      <td>-0.148316</td>\n",
              "      <td>-0.075585</td>\n",
              "      <td>0.215184</td>\n",
              "      <td>0.189832</td>\n",
              "      <td>-0.040646</td>\n",
              "      <td>0.183726</td>\n",
              "      <td>0.059242</td>\n",
              "      <td>-0.047077</td>\n",
              "      <td>1.000000</td>\n",
              "    </tr>\n",
              "  </tbody>\n",
              "</table>\n",
              "</div>"
            ],
            "text/plain": [
              "              id     cont0     cont1  ...     cont9    cont10    target\n",
              "id      1.000000 -0.000445 -0.001747  ... -0.001938 -0.000227 -0.001407\n",
              "cont0  -0.000445  1.000000  0.474046  ...  0.414758  0.807896 -0.015172\n",
              "cont1  -0.001747  0.474046  1.000000  ...  0.393313  0.471084  0.164655\n",
              "cont2  -0.002561  0.494622  0.861623  ...  0.399063  0.506684  0.140459\n",
              "cont3  -0.000721  0.549246  0.256854  ...  0.383062  0.611307 -0.148316\n",
              "cont4   0.001114  0.155805  0.133988  ...  0.161150  0.208428 -0.075585\n",
              "cont5  -0.001402 -0.169393  0.185838  ...  0.120901 -0.160551  0.215184\n",
              "cont6   0.001421 -0.436555  0.116296  ... -0.125960 -0.443371  0.189832\n",
              "cont7  -0.000927  0.740377  0.581201  ...  0.443322  0.775453 -0.040646\n",
              "cont8  -0.002574  0.367794  0.672587  ...  0.293181  0.382051  0.183726\n",
              "cont9  -0.001938  0.414758  0.393313  ...  1.000000  0.452508  0.059242\n",
              "cont10 -0.000227  0.807896  0.471084  ...  0.452508  1.000000 -0.047077\n",
              "target -0.001407 -0.015172  0.164655  ...  0.059242 -0.047077  1.000000\n",
              "\n",
              "[13 rows x 13 columns]"
            ]
          },
          "metadata": {
            "tags": []
          },
          "execution_count": 8
        }
      ]
    },
    {
      "cell_type": "code",
      "metadata": {
        "colab": {
          "base_uri": "https://localhost:8080/",
          "height": 612
        },
        "id": "nZwstSo4VpUO",
        "outputId": "5f86a55e-d133-4813-8cb8-85f104514244"
      },
      "source": [
        "plt.figure(figsize=(20,10))\r\n",
        "sns.heatmap(train.corr(),annot=True)"
      ],
      "execution_count": 9,
      "outputs": [
        {
          "output_type": "execute_result",
          "data": {
            "text/plain": [
              "<matplotlib.axes._subplots.AxesSubplot at 0x7fcf155e0090>"
            ]
          },
          "metadata": {
            "tags": []
          },
          "execution_count": 9
        },
        {
          "output_type": "display_data",
          "data": {
            "image/png": "[encoded data removed]",
            "text/plain": [
              "<Figure size 1440x720 with 2 Axes>"
            ]
          },
          "metadata": {
            "tags": [],
            "needs_background": "light"
          }
        }
      ]
    },
    {
      "cell_type": "code",
      "metadata": {
        "colab": {
          "base_uri": "https://localhost:8080/",
          "height": 351
        },
        "id": "D8cV8iFVVwnO",
        "outputId": "81d6ce78-f7cf-4089-f55c-c4acaddd0a9b"
      },
      "source": [
        "sns.countplot(train.target)"
      ],
      "execution_count": 10,
      "outputs": [
        {
          "output_type": "stream",
          "text": [
            "/usr/local/lib/python3.7/dist-packages/seaborn/_decorators.py:43: FutureWarning: Pass the following variable as a keyword arg: x. From version 0.12, the only valid positional argument will be `data`, and passing other arguments without an explicit keyword will result in an error or misinterpretation.\n",
            "  FutureWarning\n"
          ],
          "name": "stderr"
        },
        {
          "output_type": "execute_result",
          "data": {
            "text/plain": [
              "<matplotlib.axes._subplots.AxesSubplot at 0x7fcef5b279d0>"
            ]
          },
          "metadata": {
            "tags": []
          },
          "execution_count": 10
        },
        {
          "output_type": "display_data",
          "data": {
            "image/png": "[encoded data removed]",
            "text/plain": [
              "<Figure size 432x288 with 1 Axes>"
            ]
          },
          "metadata": {
            "tags": [],
            "needs_background": "light"
          }
        }
      ]
    },
    {
      "cell_type": "code",
      "metadata": {
        "colab": {
          "base_uri": "https://localhost:8080/"
        },
        "id": "7uGsxu0sY43G",
        "outputId": "046cfc4d-dd17-49a6-bb05-c5736fdc4613"
      },
      "source": [
        "for c in train.columns:\r\n",
        "  if train[c].dtype == 'object':\r\n",
        "    lb = LabelEncoder()\r\n",
        "    train[c] = lb.fit_transform(train[c].values)\r\n",
        "    test[c] = lb.fit_transform(test[c].values)\r\n",
        "   \r\n",
        "\r\n",
        "\r\n",
        "    \r\n",
        "print(train.head())"
      ],
      "execution_count": 14,
      "outputs": [
        {
          "output_type": "stream",
          "text": [
            "   id  cat0  cat1  cat2  cat3  ...     cont7     cont8     cont9    cont10  target\n",
            "0   0     0     8     0     1  ...  0.791921  0.815254  0.965006  0.665915       0\n",
            "1   1     0     8     0     0  ...  0.408701  0.399353  0.927406  0.493729       0\n",
            "2   2     0    10     0     0  ...  0.388835  0.412303  0.292696  0.549452       0\n",
            "3   3     0    10     0     2  ...  0.897617  0.633669  0.760318  0.934242       0\n",
            "4   4     0     8     6     1  ...  0.279167  0.351103  0.357084  0.328960       1\n",
            "\n",
            "[5 rows x 32 columns]\n"
          ],
          "name": "stdout"
        }
      ]
    },
    {
      "cell_type": "code",
      "metadata": {
        "id": "1iCxpL3gaKrI"
      },
      "source": [
        "train = train.drop('id',axis = 1)"
      ],
      "execution_count": 15,
      "outputs": []
    },
    {
      "cell_type": "code",
      "metadata": {
        "id": "OTUCfIDia3Ue"
      },
      "source": [
        "test = test.drop('id',axis = 1)"
      ],
      "execution_count": 16,
      "outputs": []
    },
    {
      "cell_type": "code",
      "metadata": {
        "id": "ZyOS6iTXa6Wq"
      },
      "source": [
        "y = train['target']"
      ],
      "execution_count": 17,
      "outputs": []
    },
    {
      "cell_type": "code",
      "metadata": {
        "id": "hteesqs-bKDV"
      },
      "source": [
        "X = train.drop('target',axis = 1)"
      ],
      "execution_count": 18,
      "outputs": []
    },
    {
      "cell_type": "code",
      "metadata": {
        "id": "l-7PleHpbOa0"
      },
      "source": [
        "X_train, X_test, y_train, y_test = train_test_split(X,y,test_size = 0.2,random_state = 0)"
      ],
      "execution_count": 19,
      "outputs": []
    },
    {
      "cell_type": "code",
      "metadata": {
        "colab": {
          "base_uri": "https://localhost:8080/"
        },
        "id": "HNoALQ2hbY_3",
        "outputId": "3a70c849-d985-4a06-abcd-bf2252b42994"
      },
      "source": [
        "X_train.shape , X_test.shape, y_train.shape, y_test.shape"
      ],
      "execution_count": 20,
      "outputs": [
        {
          "output_type": "execute_result",
          "data": {
            "text/plain": [
              "((240000, 30), (60000, 30), (240000,), (60000,))"
            ]
          },
          "metadata": {
            "tags": []
          },
          "execution_count": 20
        }
      ]
    },
    {
      "cell_type": "code",
      "metadata": {
        "id": "ZYc_RxGSbiQM"
      },
      "source": [
        "rf = RandomForestClassifier(random_state=0,n_estimators=200,max_depth=20)"
      ],
      "execution_count": 21,
      "outputs": []
    },
    {
      "cell_type": "code",
      "metadata": {
        "id": "-dREEDQZbnKU"
      },
      "source": [
        "rf_fit = rf.fit(X_train,y_train)"
      ],
      "execution_count": 22,
      "outputs": []
    },
    {
      "cell_type": "code",
      "metadata": {
        "id": "WPIi4QvfbtL3"
      },
      "source": [
        "rf_pred = rf_fit.predict(X_test)"
      ],
      "execution_count": 23,
      "outputs": []
    },
    {
      "cell_type": "code",
      "metadata": {
        "id": "Bi_jAcAvbxFi"
      },
      "source": [
        "from sklearn.metrics  import roc_auc_score,accuracy_score"
      ],
      "execution_count": 24,
      "outputs": []
    },
    {
      "cell_type": "code",
      "metadata": {
        "colab": {
          "base_uri": "https://localhost:8080/"
        },
        "id": "fkIpp-BPcPhd",
        "outputId": "f7f36b02-221a-45c4-8ca1-abc7070205ef"
      },
      "source": [
        "rf_fit.score(X_train,y_train)"
      ],
      "execution_count": 25,
      "outputs": [
        {
          "output_type": "execute_result",
          "data": {
            "text/plain": [
              "0.9509916666666667"
            ]
          },
          "metadata": {
            "tags": []
          },
          "execution_count": 25
        }
      ]
    },
    {
      "cell_type": "code",
      "metadata": {
        "colab": {
          "base_uri": "https://localhost:8080/"
        },
        "id": "oEkDg522cUIr",
        "outputId": "4e2758ed-31f4-40fe-8273-a7fcb48bd4e6"
      },
      "source": [
        "rf_fit.score(X_test,y_test)"
      ],
      "execution_count": 26,
      "outputs": [
        {
          "output_type": "execute_result",
          "data": {
            "text/plain": [
              "0.8445"
            ]
          },
          "metadata": {
            "tags": []
          },
          "execution_count": 26
        }
      ]
    },
    {
      "cell_type": "code",
      "metadata": {
        "id": "KTMhOsszcisL"
      },
      "source": [
        "rf_pred1 = rf_fit.predict_proba(X_test)[:,1]"
      ],
      "execution_count": 27,
      "outputs": []
    },
    {
      "cell_type": "code",
      "metadata": {
        "colab": {
          "base_uri": "https://localhost:8080/"
        },
        "id": "dZ5FNhIhdwKF",
        "outputId": "48420292-454f-4501-c1e1-d39573f5a35d"
      },
      "source": [
        "roc_auc_score(y_test,rf_pred1)"
      ],
      "execution_count": 28,
      "outputs": [
        {
          "output_type": "execute_result",
          "data": {
            "text/plain": [
              "0.8846387347273876"
            ]
          },
          "metadata": {
            "tags": []
          },
          "execution_count": 28
        }
      ]
    },
    {
      "cell_type": "markdown",
      "metadata": {
        "id": "x9HJ5muueV9S"
      },
      "source": [
        "Balancing Data"
      ]
    },
    {
      "cell_type": "code",
      "metadata": {
        "id": "YCWooFJneT_6",
        "colab": {
          "base_uri": "https://localhost:8080/"
        },
        "outputId": "ce8cd862-7756-4a58-f79b-bfbae9fc3964"
      },
      "source": [
        "from imblearn.over_sampling import RandomOverSampler"
      ],
      "execution_count": 29,
      "outputs": [
        {
          "output_type": "stream",
          "text": [
            "/usr/local/lib/python3.7/dist-packages/sklearn/externals/six.py:31: FutureWarning: The module is deprecated in version 0.21 and will be removed in version 0.23 since we've dropped support for Python 2.7. Please rely on the official version of six (https://pypi.org/project/six/).\n",
            "  \"(https://pypi.org/project/six/).\", FutureWarning)\n",
            "/usr/local/lib/python3.7/dist-packages/sklearn/utils/deprecation.py:144: FutureWarning: The sklearn.neighbors.base module is  deprecated in version 0.22 and will be removed in version 0.24. The corresponding classes / functions should instead be imported from sklearn.neighbors. Anything that cannot be imported from sklearn.neighbors is now part of the private API.\n",
            "  warnings.warn(message, FutureWarning)\n"
          ],
          "name": "stderr"
        }
      ]
    },
    {
      "cell_type": "code",
      "metadata": {
        "id": "Em7qxYSNe-Zl"
      },
      "source": [
        "ros = RandomOverSampler()"
      ],
      "execution_count": 30,
      "outputs": []
    },
    {
      "cell_type": "code",
      "metadata": {
        "colab": {
          "base_uri": "https://localhost:8080/"
        },
        "id": "-wr3oO4ufFSW",
        "outputId": "02df72f7-fd9f-4351-a8c3-3249e0d537fe"
      },
      "source": [
        "x_rand , y_rand = ros.fit_resample(X,y)"
      ],
      "execution_count": 31,
      "outputs": [
        {
          "output_type": "stream",
          "text": [
            "/usr/local/lib/python3.7/dist-packages/sklearn/utils/deprecation.py:87: FutureWarning: Function safe_indexing is deprecated; safe_indexing is deprecated in version 0.22 and will be removed in version 0.24.\n",
            "  warnings.warn(msg, category=FutureWarning)\n"
          ],
          "name": "stderr"
        }
      ]
    },
    {
      "cell_type": "code",
      "metadata": {
        "colab": {
          "base_uri": "https://localhost:8080/"
        },
        "id": "-0UcNM5ifQ02",
        "outputId": "994c3630-0a64-4d2e-f3c8-c1a9b5e234f5"
      },
      "source": [
        "x_rand.shape , y_rand.shape"
      ],
      "execution_count": 32,
      "outputs": [
        {
          "output_type": "execute_result",
          "data": {
            "text/plain": [
              "((441078, 30), (441078,))"
            ]
          },
          "metadata": {
            "tags": []
          },
          "execution_count": 32
        }
      ]
    },
    {
      "cell_type": "code",
      "metadata": {
        "colab": {
          "base_uri": "https://localhost:8080/",
          "height": 337
        },
        "id": "8oRsiLdqfX7v",
        "outputId": "80af53b0-ef34-4b35-d5e8-39f4986d4613"
      },
      "source": [
        "sns.countplot(y_rand)"
      ],
      "execution_count": 33,
      "outputs": [
        {
          "output_type": "stream",
          "text": [
            "/usr/local/lib/python3.7/dist-packages/seaborn/_decorators.py:43: FutureWarning: Pass the following variable as a keyword arg: x. From version 0.12, the only valid positional argument will be `data`, and passing other arguments without an explicit keyword will result in an error or misinterpretation.\n",
            "  FutureWarning\n"
          ],
          "name": "stderr"
        },
        {
          "output_type": "execute_result",
          "data": {
            "text/plain": [
              "<matplotlib.axes._subplots.AxesSubplot at 0x7fcef3f8f410>"
            ]
          },
          "metadata": {
            "tags": []
          },
          "execution_count": 33
        },
        {
          "output_type": "display_data",
          "data": {
            "image/png": "[encoded data removed]",
            "text/plain": [
              "<Figure size 432x288 with 1 Axes>"
            ]
          },
          "metadata": {
            "tags": [],
            "needs_background": "light"
          }
        }
      ]
    },
    {
      "cell_type": "code",
      "metadata": {
        "id": "m0s2m80rfeC-"
      },
      "source": [
        "x_train,x_test,Y_train,Y_test = train_test_split(x_rand,y_rand,random_state = 0,test_size = 0.2)"
      ],
      "execution_count": 34,
      "outputs": []
    },
    {
      "cell_type": "code",
      "metadata": {
        "id": "tKvmxzAIfsKf"
      },
      "source": [
        "rf1 = RandomForestClassifier(random_state=0)\r\n",
        "rf_fit_rand = rf1.fit(x_train,Y_train)"
      ],
      "execution_count": 35,
      "outputs": []
    },
    {
      "cell_type": "code",
      "metadata": {
        "id": "z4g96K8snBZv"
      },
      "source": [
        "rf_predict_rand = rf1.predict(x_test)"
      ],
      "execution_count": 36,
      "outputs": []
    },
    {
      "cell_type": "code",
      "metadata": {
        "id": "Y1NqAMwvf868"
      },
      "source": [
        "rf_pred_rand = rf_fit_rand.predict_proba(x_test)[:,1]"
      ],
      "execution_count": 37,
      "outputs": []
    },
    {
      "cell_type": "code",
      "metadata": {
        "colab": {
          "base_uri": "https://localhost:8080/"
        },
        "id": "ESwdbyY5gGEd",
        "outputId": "aaccfe28-e073-4433-dd0d-c6d6a93fba37"
      },
      "source": [
        "roc_auc_score(Y_test,rf_pred_rand)"
      ],
      "execution_count": 38,
      "outputs": [
        {
          "output_type": "execute_result",
          "data": {
            "text/plain": [
              "0.9824691963073232"
            ]
          },
          "metadata": {
            "tags": []
          },
          "execution_count": 38
        }
      ]
    },
    {
      "cell_type": "code",
      "metadata": {
        "colab": {
          "base_uri": "https://localhost:8080/"
        },
        "id": "abLUHO54nKeu",
        "outputId": "a068898f-ebaf-43db-aeb0-83c80afd685d"
      },
      "source": [
        "roc_auc_score(Y_test,rf_predict_rand)"
      ],
      "execution_count": 39,
      "outputs": [
        {
          "output_type": "execute_result",
          "data": {
            "text/plain": [
              "0.9326149175736387"
            ]
          },
          "metadata": {
            "tags": []
          },
          "execution_count": 39
        }
      ]
    },
    {
      "cell_type": "code",
      "metadata": {
        "id": "eRQXa7epgnxF"
      },
      "source": [
        "prediction = rf_fit_rand.predict(test)"
      ],
      "execution_count": 40,
      "outputs": []
    },
    {
      "cell_type": "code",
      "metadata": {
        "id": "EZROFCLZhS7e"
      },
      "source": [
        "pred = pd.DataFrame(prediction,columns=['target'])"
      ],
      "execution_count": 41,
      "outputs": []
    },
    {
      "cell_type": "code",
      "metadata": {
        "id": "cRBGhCK0hmJG"
      },
      "source": [
        "sub1 = sub.drop('target',axis = 1)"
      ],
      "execution_count": 42,
      "outputs": []
    },
    {
      "cell_type": "code",
      "metadata": {
        "id": "sXze7K9Uhl55"
      },
      "source": [
        "final = pd.concat([sub1,pred],axis = 1)"
      ],
      "execution_count": 43,
      "outputs": []
    },
    {
      "cell_type": "code",
      "metadata": {
        "colab": {
          "base_uri": "https://localhost:8080/",
          "height": 17
        },
        "id": "eT3359X9hAAY",
        "outputId": "88925e32-8c1a-459b-ad0d-564b1c23b8f0"
      },
      "source": [
        "from google.colab import files\r\n",
        "\r\n",
        "\r\n",
        "final.to_csv('final.csv')\r\n",
        "\r\n",
        "\r\n",
        "\r\n",
        "files.download('final.csv')"
      ],
      "execution_count": 44,
      "outputs": [
        {
          "output_type": "display_data",
          "data": {
            "application/javascript": [
              "\n",
              "    async function download(id, filename, size) {\n",
              "      if (!google.colab.kernel.accessAllowed) {\n",
              "        return;\n",
              "      }\n",
              "      const div = document.createElement('div');\n",
              "      const label = document.createElement('label');\n",
              "      label.textContent = `Downloading \"${filename}\": `;\n",
              "      div.appendChild(label);\n",
              "      const progress = document.createElement('progress');\n",
              "      progress.max = size;\n",
              "      div.appendChild(progress);\n",
              "      document.body.appendChild(div);\n",
              "\n",
              "      const buffers = [];\n",
              "      let downloaded = 0;\n",
              "\n",
              "      const channel = await google.colab.kernel.comms.open(id);\n",
              "      // Send a message to notify the kernel that we're ready.\n",
              "      channel.send({})\n",
              "\n",
              "      for await (const message of channel.messages) {\n",
              "        // Send a message to notify the kernel that we're ready.\n",
              "        channel.send({})\n",
              "        if (message.buffers) {\n",
              "          for (const buffer of message.buffers) {\n",
              "            buffers.push(buffer);\n",
              "            downloaded += buffer.byteLength;\n",
              "            progress.value = downloaded;\n",
              "          }\n",
              "        }\n",
              "      }\n",
              "      const blob = new Blob(buffers, {type: 'application/binary'});\n",
              "      const a = document.createElement('a');\n",
              "      a.href = window.URL.createObjectURL(blob);\n",
              "      a.download = filename;\n",
              "      div.appendChild(a);\n",
              "      a.click();\n",
              "      div.remove();\n",
              "    }\n",
              "  "
            ],
            "text/plain": [
              "<IPython.core.display.Javascript object>"
            ]
          },
          "metadata": {
            "tags": []
          }
        },
        {
          "output_type": "display_data",
          "data": {
            "application/javascript": [
              "download(\"download_fa20e69e-46f6-452c-a366-9ac027c35c5c\", \"final.csv\", 3044373)"
            ],
            "text/plain": [
              "<IPython.core.display.Javascript object>"
            ]
          },
          "metadata": {
            "tags": []
          }
        }
      ]
    },
    {
      "cell_type": "code",
      "metadata": {
        "id": "Atq1135DhPbt"
      },
      "source": [
        "xgb = XGBClassifier(max_depth=20,learning_rate=0.5,n_estimators=500,n_jobs = -1)"
      ],
      "execution_count": 45,
      "outputs": []
    },
    {
      "cell_type": "code",
      "metadata": {
        "id": "BnCkOzJUmGxr"
      },
      "source": [
        "xgb_fit = xgb.fit(x_train,Y_train)"
      ],
      "execution_count": 46,
      "outputs": []
    },
    {
      "cell_type": "code",
      "metadata": {
        "id": "ZA4pmWe8mP3Y"
      },
      "source": [
        "xgb_pred = xgb_fit.predict(x_test)"
      ],
      "execution_count": 47,
      "outputs": []
    },
    {
      "cell_type": "code",
      "metadata": {
        "id": "-M1OrcVnmVq0"
      },
      "source": [
        "xgb_pred_prob = xgb_fit.predict_proba(x_test)[:,1]"
      ],
      "execution_count": 48,
      "outputs": []
    },
    {
      "cell_type": "code",
      "metadata": {
        "colab": {
          "base_uri": "https://localhost:8080/"
        },
        "id": "2xdeMzKQmu7h",
        "outputId": "d4833ca8-935b-47ec-d1c6-a8c7484e9ee3"
      },
      "source": [
        "roc_auc_score(Y_test,xgb_pred_prob)"
      ],
      "execution_count": 50,
      "outputs": [
        {
          "output_type": "execute_result",
          "data": {
            "text/plain": [
              "0.9791611214179688"
            ]
          },
          "metadata": {
            "tags": []
          },
          "execution_count": 50
        }
      ]
    },
    {
      "cell_type": "code",
      "metadata": {
        "id": "pvlUqk7Nm4RB"
      },
      "source": [
        "pred_test = xgb_fit.predict(test.values)"
      ],
      "execution_count": 52,
      "outputs": []
    },
    {
      "cell_type": "code",
      "metadata": {
        "id": "exGsYOy1NZyx"
      },
      "source": [
        "pred1 = pd.DataFrame(pred_test,columns=['target'])"
      ],
      "execution_count": 55,
      "outputs": []
    },
    {
      "cell_type": "code",
      "metadata": {
        "id": "qQE340xINIKy"
      },
      "source": [
        "final = pd.concat([sub1,pred1],axis = 1)"
      ],
      "execution_count": 56,
      "outputs": []
    },
    {
      "cell_type": "code",
      "metadata": {
        "colab": {
          "base_uri": "https://localhost:8080/",
          "height": 17
        },
        "id": "3shliuGZNeBK",
        "outputId": "499b90d4-df5f-4a80-92e9-98f1ae060aac"
      },
      "source": [
        "final.to_csv('final1.csv')\r\n",
        "\r\n",
        "files.download('final1.csv')"
      ],
      "execution_count": 57,
      "outputs": [
        {
          "output_type": "display_data",
          "data": {
            "application/javascript": [
              "\n",
              "    async function download(id, filename, size) {\n",
              "      if (!google.colab.kernel.accessAllowed) {\n",
              "        return;\n",
              "      }\n",
              "      const div = document.createElement('div');\n",
              "      const label = document.createElement('label');\n",
              "      label.textContent = `Downloading \"${filename}\": `;\n",
              "      div.appendChild(label);\n",
              "      const progress = document.createElement('progress');\n",
              "      progress.max = size;\n",
              "      div.appendChild(progress);\n",
              "      document.body.appendChild(div);\n",
              "\n",
              "      const buffers = [];\n",
              "      let downloaded = 0;\n",
              "\n",
              "      const channel = await google.colab.kernel.comms.open(id);\n",
              "      // Send a message to notify the kernel that we're ready.\n",
              "      channel.send({})\n",
              "\n",
              "      for await (const message of channel.messages) {\n",
              "        // Send a message to notify the kernel that we're ready.\n",
              "        channel.send({})\n",
              "        if (message.buffers) {\n",
              "          for (const buffer of message.buffers) {\n",
              "            buffers.push(buffer);\n",
              "            downloaded += buffer.byteLength;\n",
              "            progress.value = downloaded;\n",
              "          }\n",
              "        }\n",
              "      }\n",
              "      const blob = new Blob(buffers, {type: 'application/binary'});\n",
              "      const a = document.createElement('a');\n",
              "      a.href = window.URL.createObjectURL(blob);\n",
              "      a.download = filename;\n",
              "      div.appendChild(a);\n",
              "      a.click();\n",
              "      div.remove();\n",
              "    }\n",
              "  "
            ],
            "text/plain": [
              "<IPython.core.display.Javascript object>"
            ]
          },
          "metadata": {
            "tags": []
          }
        },
        {
          "output_type": "display_data",
          "data": {
            "application/javascript": [
              "download(\"download_2791e6ec-9f2c-4800-a04f-04279175dc66\", \"final1.csv\", 3044373)"
            ],
            "text/plain": [
              "<IPython.core.display.Javascript object>"
            ]
          },
          "metadata": {
            "tags": []
          }
        }
      ]
    },
    {
      "cell_type": "code",
      "metadata": {
        "id": "UKclXzXENonf"
      },
      "source": [
        ""
      ],
      "execution_count": null,
      "outputs": []
    }
  ]
}